{
  "nbformat": 4,
  "nbformat_minor": 0,
  "metadata": {
    "colab": {
      "provenance": [],
      "authorship_tag": "ABX9TyPI/wE8IpfeT02MdHZl8oqg",
      "include_colab_link": true
    },
    "kernelspec": {
      "name": "python3",
      "display_name": "Python 3"
    },
    "language_info": {
      "name": "python"
    }
  },
  "cells": [
    {
      "cell_type": "markdown",
      "metadata": {
        "id": "view-in-github",
        "colab_type": "text"
      },
      "source": [
        "<a href=\"https://colab.research.google.com/github/TOM-BOHN/MsDS-customer-churn-prediction/blob/main/Background.ipynb\" target=\"_parent\"><img src=\"https://colab.research.google.com/assets/colab-badge.svg\" alt=\"Open In Colab\"/></a>"
      ]
    },
    {
      "cell_type": "markdown",
      "source": [
        "# Useful Documentation\n",
        "*   **XGBoost Python Package: Python API Reference** https://xgboost.readthedocs.io/en/stable/python/python_api.html\n",
        "*   **Kaggle: Using XGBoost with Scikit-learn** https://www.kaggle.com/code/stuarthallows/using-xgboost-with-scikit-learn\n",
        "*   **SciKit-Learn: 1.13. Feature Selection** https://scikit-learn.org/stable/modules/feature_selection.html\n",
        "*   **SciKit-Learn: 3.3. Metrics and scoring: quantifying the quality of predictions** https://scikit-learn.org/stable/modules/model_evaluation.html#precision-recall-f-measure-metrics\n",
        "*   **ProductPlan: Churn** https://www.productplan.com/glossary/churn/\n"
      ],
      "metadata": {
        "id": "fvbZU0kxUZj_"
      }
    },
    {
      "cell_type": "markdown",
      "source": [
        "# References:\n",
        "* **Telco customer churn (11.1.3+)**\n",
        " * **Type:** Reference Document\n",
        " * **Link:** https://community.ibm.com/community/user/businessanalytics/blogs/steven-macko/2019/07/11/telco-customer-churn-1113\n",
        "  * **Purpose:** Source of Data Dictionary\n",
        "  * **Purpose Description:** Documentation created by the IBM Samples Team that outlines the collection of sample data an assets as well as defines data fields in a data dictionary\n",
        "\n",
        "* **Kaggle: Telco customer churn (11.1.3+)**\n",
        " * **Type:** Kaggle Dataset\n",
        " * **Link:** https://www.kaggle.com/datasets/ylchang/telco-customer-churn-1113\n",
        "  * **Purpose:** Dataset Source\n",
        "  * **Purpose Description:** Public Kaggle Datasource where the IMB CUstomer Churn data files are shared as separate table aligned to original data model. Secondary source of a data dictionary for files\n",
        "\n",
        "* **Predict Customer Churn using Watson Machine Learning and Jupyter Notebooks on Cloud Pak for Data**\n",
        " * **Type:** Github Repository\n",
        " * **Link:** https://github.com/IBM/telco-customer-churn-on-icp4d#3-upload-the-dataset\n",
        "  * **Purpose:** General Reference\n",
        "  * **Purpose Description:** General reference of an application an analysis of curn data files from IBM.  Consolidated data file (looking for split data files to use in data prep).\n",
        "\n",
        "* **A Survey on Machine Learning Methods for Churn Prediction**\n",
        " * **Type:** Academic Paper\n",
        " * **Link:** https://hal.science/hal-03824873\n",
        "  * **Purpose:** General Reference\n",
        "  * **Purpose Description:** Detailed academic paper on Churn Prediction. Provides a table of many curn data source that could potentially be used for general model analysis and application.\n",
        "\n",
        "* **Kaggle: Telco customer churn: IBM dataset**\n",
        " * **Type:** Kaggle Dataset\n",
        " * **Link:** https://www.kaggle.com/datasets/yeanzc/telco-customer-churn-ibm-dataset\n",
        "  * **Purpose:** Data Source (Alternate)\n",
        "  * **Purpose Description:** Alternae source of data from Kaggle.  This data is consolidated into a single file and is not used, as I would like to start with the raw data files as far upstream as possible.\n",
        "\n",
        "* **Maven: Telecom Customer Churn**\n",
        " * **Type:** Maven Dataset\n",
        " * **Link:** https://www.mavenanalytics.io/data-playground?pageSize=20\n",
        "  * **Purpose:** Data Source (Alternate)\n",
        "  * **Purpose Description:** Well curated Telco Customer Churn dataset sourced from the IBM Cognos Analytics source.  Likely more refined as a starting point than I am looking to use for this analysis.\n",
        "\n",
        "* **Analyzing Customer Churn in Telecom**\n",
        " * **Type:** Blog Post\n",
        " * **Link:** https://medium.com/@odmirajkar/analyzing-customer-churn-in-telecom-f928c8119244\n",
        "  * **Purpose:** General Reference\n",
        "  * **Purpose Description:** Lightweight blog post on analyzing customer curn in Telecom. Establish foundation and commonality of this type of analysis occuring as a demonstration and project.\n",
        "\n",
        "* **Customer Churn Prediction**\n",
        " * **Type:** Complete Data Science Notebook\n",
        " * **Link:** https://deepnote.com/@flsbustamante/customer-churn-prediction-8eac729e-7ba2-4fb2-9ce0-7018e476d572\n",
        "  * **Purpose:** General Reference\n",
        "  * **Purpose Description:** Much more complex analysis of customer churn complete by a fellow data scientist. Good references to other materials to support research and references. Interesting outline to content structuring and section breakouts.\n",
        "\n",
        "* **End-to-end machine learning project: Telco customer churn**\n",
        " * **Type:** Complete Data Science Notebook\n",
        " * **Link:** https://towardsdatascience.com/end-to-end-machine-learning-project-telco-customer-churn-90744a8df97d\n",
        "  * **Purpose:** General Reference\n",
        "  * **Purpose Description:** Much more complex analysis of customer churn complete by a fellow data scientist. Good references to other materials to support research and references. Interesting outline to content structuring and section breakouts."
      ],
      "metadata": {
        "id": "CIaDkwMlNmQX"
      }
    }
  ]
}