{
  "nbformat": 4,
  "nbformat_minor": 0,
  "metadata": {
    "colab": {
      "provenance": [],
      "authorship_tag": "ABX9TyM9vyijtSD+ZMpftwqbUbpR",
      "include_colab_link": true
    },
    "kernelspec": {
      "name": "python3",
      "display_name": "Python 3"
    },
    "language_info": {
      "name": "python"
    }
  },
  "cells": [
    {
      "cell_type": "markdown",
      "metadata": {
        "id": "view-in-github",
        "colab_type": "text"
      },
      "source": [
        "<a href=\"https://colab.research.google.com/github/TOM-BOHN/MsDS-customer-churn-prediction/blob/main/Data_Clensing.ipynb\" target=\"_parent\"><img src=\"https://colab.research.google.com/assets/colab-badge.svg\" alt=\"Open In Colab\"/></a>"
      ]
    },
    {
      "cell_type": "markdown",
      "source": [
        "# Data"
      ],
      "metadata": {
        "id": "f6nDWEvRyBJa"
      }
    },
    {
      "cell_type": "code",
      "source": [
        "import os\n",
        "import pandas as pd\n",
        "import numpy as np"
      ],
      "metadata": {
        "id": "AMrIMhRp9W-d"
      },
      "execution_count": null,
      "outputs": []
    },
    {
      "cell_type": "code",
      "execution_count": 4,
      "metadata": {
        "id": "_ADWinZqwevM",
        "colab": {
          "base_uri": "https://localhost:8080/",
          "height": 527
        },
        "outputId": "99d6623c-dae5-443b-f114-ad26e81c8a61"
      },
      "outputs": [
        {
          "output_type": "stream",
          "name": "stdout",
          "text": [
            "Drive already mounted at /content/gdrive; to attempt to forcibly remount, call drive.mount(\"/content/gdrive\", force_remount=True).\n"
          ]
        },
        {
          "output_type": "display_data",
          "data": {
            "text/plain": [
              "<IPython.core.display.HTML object>"
            ],
            "text/html": [
              "\n",
              "     <input type=\"file\" id=\"files-79a0c5fa-4c1c-4cb2-9a23-da6fc7923e22\" name=\"files[]\" multiple disabled\n",
              "        style=\"border:none\" />\n",
              "     <output id=\"result-79a0c5fa-4c1c-4cb2-9a23-da6fc7923e22\">\n",
              "      Upload widget is only available when the cell has been executed in the\n",
              "      current browser session. Please rerun this cell to enable.\n",
              "      </output>\n",
              "      <script>// Copyright 2017 Google LLC\n",
              "//\n",
              "// Licensed under the Apache License, Version 2.0 (the \"License\");\n",
              "// you may not use this file except in compliance with the License.\n",
              "// You may obtain a copy of the License at\n",
              "//\n",
              "//      http://www.apache.org/licenses/LICENSE-2.0\n",
              "//\n",
              "// Unless required by applicable law or agreed to in writing, software\n",
              "// distributed under the License is distributed on an \"AS IS\" BASIS,\n",
              "// WITHOUT WARRANTIES OR CONDITIONS OF ANY KIND, either express or implied.\n",
              "// See the License for the specific language governing permissions and\n",
              "// limitations under the License.\n",
              "\n",
              "/**\n",
              " * @fileoverview Helpers for google.colab Python module.\n",
              " */\n",
              "(function(scope) {\n",
              "function span(text, styleAttributes = {}) {\n",
              "  const element = document.createElement('span');\n",
              "  element.textContent = text;\n",
              "  for (const key of Object.keys(styleAttributes)) {\n",
              "    element.style[key] = styleAttributes[key];\n",
              "  }\n",
              "  return element;\n",
              "}\n",
              "\n",
              "// Max number of bytes which will be uploaded at a time.\n",
              "const MAX_PAYLOAD_SIZE = 100 * 1024;\n",
              "\n",
              "function _uploadFiles(inputId, outputId) {\n",
              "  const steps = uploadFilesStep(inputId, outputId);\n",
              "  const outputElement = document.getElementById(outputId);\n",
              "  // Cache steps on the outputElement to make it available for the next call\n",
              "  // to uploadFilesContinue from Python.\n",
              "  outputElement.steps = steps;\n",
              "\n",
              "  return _uploadFilesContinue(outputId);\n",
              "}\n",
              "\n",
              "// This is roughly an async generator (not supported in the browser yet),\n",
              "// where there are multiple asynchronous steps and the Python side is going\n",
              "// to poll for completion of each step.\n",
              "// This uses a Promise to block the python side on completion of each step,\n",
              "// then passes the result of the previous step as the input to the next step.\n",
              "function _uploadFilesContinue(outputId) {\n",
              "  const outputElement = document.getElementById(outputId);\n",
              "  const steps = outputElement.steps;\n",
              "\n",
              "  const next = steps.next(outputElement.lastPromiseValue);\n",
              "  return Promise.resolve(next.value.promise).then((value) => {\n",
              "    // Cache the last promise value to make it available to the next\n",
              "    // step of the generator.\n",
              "    outputElement.lastPromiseValue = value;\n",
              "    return next.value.response;\n",
              "  });\n",
              "}\n",
              "\n",
              "/**\n",
              " * Generator function which is called between each async step of the upload\n",
              " * process.\n",
              " * @param {string} inputId Element ID of the input file picker element.\n",
              " * @param {string} outputId Element ID of the output display.\n",
              " * @return {!Iterable<!Object>} Iterable of next steps.\n",
              " */\n",
              "function* uploadFilesStep(inputId, outputId) {\n",
              "  const inputElement = document.getElementById(inputId);\n",
              "  inputElement.disabled = false;\n",
              "\n",
              "  const outputElement = document.getElementById(outputId);\n",
              "  outputElement.innerHTML = '';\n",
              "\n",
              "  const pickedPromise = new Promise((resolve) => {\n",
              "    inputElement.addEventListener('change', (e) => {\n",
              "      resolve(e.target.files);\n",
              "    });\n",
              "  });\n",
              "\n",
              "  const cancel = document.createElement('button');\n",
              "  inputElement.parentElement.appendChild(cancel);\n",
              "  cancel.textContent = 'Cancel upload';\n",
              "  const cancelPromise = new Promise((resolve) => {\n",
              "    cancel.onclick = () => {\n",
              "      resolve(null);\n",
              "    };\n",
              "  });\n",
              "\n",
              "  // Wait for the user to pick the files.\n",
              "  const files = yield {\n",
              "    promise: Promise.race([pickedPromise, cancelPromise]),\n",
              "    response: {\n",
              "      action: 'starting',\n",
              "    }\n",
              "  };\n",
              "\n",
              "  cancel.remove();\n",
              "\n",
              "  // Disable the input element since further picks are not allowed.\n",
              "  inputElement.disabled = true;\n",
              "\n",
              "  if (!files) {\n",
              "    return {\n",
              "      response: {\n",
              "        action: 'complete',\n",
              "      }\n",
              "    };\n",
              "  }\n",
              "\n",
              "  for (const file of files) {\n",
              "    const li = document.createElement('li');\n",
              "    li.append(span(file.name, {fontWeight: 'bold'}));\n",
              "    li.append(span(\n",
              "        `(${file.type || 'n/a'}) - ${file.size} bytes, ` +\n",
              "        `last modified: ${\n",
              "            file.lastModifiedDate ? file.lastModifiedDate.toLocaleDateString() :\n",
              "                                    'n/a'} - `));\n",
              "    const percent = span('0% done');\n",
              "    li.appendChild(percent);\n",
              "\n",
              "    outputElement.appendChild(li);\n",
              "\n",
              "    const fileDataPromise = new Promise((resolve) => {\n",
              "      const reader = new FileReader();\n",
              "      reader.onload = (e) => {\n",
              "        resolve(e.target.result);\n",
              "      };\n",
              "      reader.readAsArrayBuffer(file);\n",
              "    });\n",
              "    // Wait for the data to be ready.\n",
              "    let fileData = yield {\n",
              "      promise: fileDataPromise,\n",
              "      response: {\n",
              "        action: 'continue',\n",
              "      }\n",
              "    };\n",
              "\n",
              "    // Use a chunked sending to avoid message size limits. See b/62115660.\n",
              "    let position = 0;\n",
              "    do {\n",
              "      const length = Math.min(fileData.byteLength - position, MAX_PAYLOAD_SIZE);\n",
              "      const chunk = new Uint8Array(fileData, position, length);\n",
              "      position += length;\n",
              "\n",
              "      const base64 = btoa(String.fromCharCode.apply(null, chunk));\n",
              "      yield {\n",
              "        response: {\n",
              "          action: 'append',\n",
              "          file: file.name,\n",
              "          data: base64,\n",
              "        },\n",
              "      };\n",
              "\n",
              "      let percentDone = fileData.byteLength === 0 ?\n",
              "          100 :\n",
              "          Math.round((position / fileData.byteLength) * 100);\n",
              "      percent.textContent = `${percentDone}% done`;\n",
              "\n",
              "    } while (position < fileData.byteLength);\n",
              "  }\n",
              "\n",
              "  // All done.\n",
              "  yield {\n",
              "    response: {\n",
              "      action: 'complete',\n",
              "    }\n",
              "  };\n",
              "}\n",
              "\n",
              "scope.google = scope.google || {};\n",
              "scope.google.colab = scope.google.colab || {};\n",
              "scope.google.colab._files = {\n",
              "  _uploadFiles,\n",
              "  _uploadFilesContinue,\n",
              "};\n",
              "})(self);\n",
              "</script> "
            ]
          },
          "metadata": {}
        },
        {
          "output_type": "stream",
          "name": "stdout",
          "text": [
            "Saving kaggle.json to kaggle (1).json\n",
            "-rw-r--r-- 1 root root 66 Aug  7 21:13 kaggle.json\n",
            "/content\n",
            "ref                                                       title                                             size  lastUpdated          downloadCount  voteCount  usabilityRating  \n",
            "--------------------------------------------------------  -----------------------------------------------  -----  -------------------  -------------  ---------  ---------------  \n",
            "nelgiriyewithana/countries-of-the-world-2023              Global Country Information Dataset 2023           23KB  2023-07-08 20:37:33           8724        341  1.0              \n",
            "juhibhojani/house-price                                   House Price                                        7MB  2023-08-02 16:51:21            921         35  0.9411765        \n",
            "arnavsmayan/netflix-userbase-dataset                      Netflix Userbase Dataset                          25KB  2023-07-04 07:38:41          10317        183  1.0              \n",
            "alphiree/cardiovascular-diseases-risk-prediction-dataset  Cardiovascular Diseases Risk Prediction Dataset    5MB  2023-07-03 12:12:19           7995        282  1.0              \n",
            "nelgiriyewithana/global-youtube-statistics-2023           Global YouTube Statistics 2023                    60KB  2023-07-28 15:36:38           1488         71  1.0              \n",
            "abhijitdahatonde/zomato-restaurants-dataset               Zomato Restaurants Dataset                       181KB  2023-07-20 13:11:17            856         30  1.0              \n",
            "abhijitdahatonde/fifa-world-cup-all-dataset               FIFA World Cup All Dataset                       192KB  2023-07-31 02:22:58            472         28  0.9411765        \n",
            "kapturovalexander/bank-credit-scoring                     Bank credit scoring                               65KB  2023-08-07 06:19:32            769         34  1.0              \n",
            "joebeachcapital/ransomware-attacks                        Ransomware Attacks                                34KB  2023-08-03 00:41:08            298         24  1.0              \n",
            "pavankrishnanarne/global-stock-market-2008-present        Global Stock Market (2008-2023)                    1MB  2023-07-30 06:17:44            527         23  0.9411765        \n",
            "alirezajavid1999/google-stock-2010-2023                   Google Stock (2010-2023)                          76KB  2023-07-29 23:57:16            660         29  1.0              \n",
            "sudheerp2147234/salary-dataset-based-on-country-and-race  Salary dataset based on country and race          49KB  2023-07-06 09:10:21           2393         51  1.0              \n",
            "abhijitdahatonde/real-world-smartphones-dataset           Real World Smartphone's Dataset                   17KB  2023-08-02 07:03:01            491         25  1.0              \n",
            "joebeachcapital/worlds-biggest-data-breaches-and-hacks    World's Biggest Data Breaches & Hacks             49KB  2023-08-01 04:31:23            403         33  1.0              \n",
            "joebeachcapital/top-10000-spotify-songs-1960-now          Top 10000 Songs on Spotify 1960-Now                2MB  2023-07-26 00:54:14           1272         53  1.0              \n",
            "mexwell/world-airports                                    ✈️ World Airports                                  5MB  2023-07-25 08:37:38            910         27  1.0              \n",
            "harishkumardatalab/housing-price-prediction               Housing Price Prediction                           5KB  2023-07-07 04:34:24           3284         68  1.0              \n",
            "nathaniellybrand/chicago-car-crash-dataset                Chicago Car Crash Dataset                        116MB  2023-07-31 19:58:33            355         25  1.0              \n",
            "bhanupratapbiswas/olympic-data                            Olympic Data 🥇 ⛳🥅🏋️‍♀️🚴‍♂️                         1MB  2023-07-20 09:30:19           1809         52  1.0              \n",
            "khushipitroda/top-250-indian-movies-imdb                  Top 250 Indian movies IMDB                        24KB  2023-08-02 04:37:17            366         30  1.0              \n"
          ]
        }
      ],
      "source": [
        "#Prepare to Connect to Kaggle API with Token\n",
        "\n",
        "#Create a Kaggle API Token\n",
        "#- Log into your kaggle account, navigate to theAPI section\n",
        "#- Create a New API Token, triggering the downloaf of the kaggle.json file\n",
        "#- Go to this Google Colab Notebook step and proceed\n",
        "\n",
        "#Mount the Google Drive\n",
        "from google.colab import drive\n",
        "drive.mount(\"/content/gdrive\")\n",
        "\n",
        "#Upload the kaggle.json file\n",
        "from google.colab import files\n",
        "files.upload()\n",
        "#prompt open to upload kaggle.json\n",
        "\n",
        "#Verify the kaggle.json file is present\n",
        "!ls -lha kaggle.json\n",
        "\n",
        "#Install kaggle API\n",
        "!pip install -q kaggle\n",
        "\n",
        "#Move kaggle.json file to the appropriate directory and set permissions\n",
        "!mkdir -p ~/.kaggle\n",
        "!cp kaggle.json ~/.kaggle/\n",
        "!chmod 600 /root/.kaggle/kaggle.json\n",
        "\n",
        "#check the directory before downloading the datasets\n",
        "!pwd\n",
        "\n",
        "#Sanity Check for Connection\n",
        "!kaggle datasets list"
      ]
    },
    {
      "cell_type": "code",
      "source": [
        "#Import the Kaggle Data Source\n",
        "\n",
        "#Define the source of the dataset\n",
        "kaggle_owner_name = 'ylchang'\n",
        "kaggle_dataset_name = 'telco-customer-churn-1113'\n",
        "kaggle_dataset = kaggle_owner_name + '/' + kaggle_dataset_name\n",
        "print(kaggle_dataset)\n",
        "\n",
        "#Define the destination of the dataset\n",
        "dest_path = '/content'\n",
        "dest_folder = ''\n",
        "dest_dataset = dest_path + dest_folder\n",
        "print(dest_dataset)\n",
        "\n",
        "#Download the kaggle dataset\n",
        "!kaggle datasets download -d {kaggle_dataset} -p {dest_dataset}\n",
        "\n",
        "#Unzip the files\n",
        "zip_file_name = kaggle_dataset_name + '.zip'\n",
        "!mkdir {kaggle_dataset_name}\n",
        "print(zip_file_name)\n",
        "!unzip {zip_file_name} -d {kaggle_dataset_name}"
      ],
      "metadata": {
        "colab": {
          "base_uri": "https://localhost:8080/"
        },
        "id": "vbcD_tZl2HCH",
        "outputId": "0f68c0c3-bf5e-4d49-e368-d7ead2b4c98d"
      },
      "execution_count": 7,
      "outputs": [
        {
          "output_type": "stream",
          "name": "stdout",
          "text": [
            "ylchang/telco-customer-churn-1113\n",
            "/content\n",
            "Downloading telco-customer-churn-1113.zip to /content\n",
            "  0% 0.00/3.45M [00:00<?, ?B/s]\n",
            "100% 3.45M/3.45M [00:00<00:00, 209MB/s]\n",
            "mkdir: cannot create directory ‘telco-customer-churn-1113’: File exists\n",
            "telco-customer-churn-1113.zip\n",
            "Archive:  telco-customer-churn-1113.zip\n",
            "  inflating: telco-customer-churn-1113/Telco_customer_churn.xlsx  \n",
            "  inflating: telco-customer-churn-1113/Telco_customer_churn_demographics.xlsx  \n",
            "  inflating: telco-customer-churn-1113/Telco_customer_churn_location.xlsx  \n",
            "  inflating: telco-customer-churn-1113/Telco_customer_churn_population.xlsx  \n",
            "  inflating: telco-customer-churn-1113/Telco_customer_churn_services.xlsx  \n",
            "  inflating: telco-customer-churn-1113/Telco_customer_churn_status.xlsx  \n"
          ]
        }
      ]
    },
    {
      "cell_type": "markdown",
      "source": [
        "Reference for Connecting to Kaggle\n",
        "\n",
        "*   Steps to download Kaggle datasets in Google Colab: https://www.kaggle.com/discussions/general/156610\n",
        "*   Easy way to use Kaggle datasets in Google Colab: https://www.kaggle.com/discussions/general/51898\n",
        "*   Easiest way to download kaggle data in Google Colab: https://www.kaggle.com/discussions/general/74235"
      ],
      "metadata": {
        "id": "hZi8IQm_39lI"
      }
    },
    {
      "cell_type": "code",
      "source": [
        "import os\n",
        "\n",
        "#Get the list of files imported\n",
        "directory_path = dest_dataset + '/' + kaggle_dataset_name\n",
        "directory_files = os.listdir(directory_path)\n",
        "print(directory_files)"
      ],
      "metadata": {
        "id": "JTrLAkpS6adn",
        "outputId": "b8dd5891-ada3-4bf4-b8b6-ede6b6e81e92",
        "colab": {
          "base_uri": "https://localhost:8080/"
        }
      },
      "execution_count": 9,
      "outputs": [
        {
          "output_type": "stream",
          "name": "stdout",
          "text": [
            "['Telco_customer_churn.xlsx', 'Telco_customer_churn_services.xlsx', 'Telco_customer_churn_status.xlsx', 'Telco_customer_churn_location.xlsx', 'Telco_customer_churn_population.xlsx', 'Telco_customer_churn_demographics.xlsx']\n"
          ]
        }
      ]
    },
    {
      "cell_type": "code",
      "source": [
        "for file in directory_files:\n",
        ""
      ],
      "metadata": {
        "id": "lV6gEjR19C69"
      },
      "execution_count": null,
      "outputs": []
    },
    {
      "cell_type": "markdown",
      "source": [
        "# Data Clensing"
      ],
      "metadata": {
        "id": "Nv5dDRkyx-Df"
      }
    },
    {
      "cell_type": "code",
      "source": [],
      "metadata": {
        "id": "wnVU6mHxyIXK"
      },
      "execution_count": null,
      "outputs": []
    }
  ]
}